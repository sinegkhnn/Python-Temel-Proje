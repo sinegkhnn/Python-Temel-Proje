{
 "cells": [
  {
   "cell_type": "code",
   "execution_count": 80,
   "metadata": {},
   "outputs": [
    {
     "data": {
      "text/plain": [
       "[1, 'a', 'cat', 2, 3, 'dog', 4, 5]"
      ]
     },
     "execution_count": 80,
     "metadata": {},
     "output_type": "execute_result"
    }
   ],
   "source": [
    "list_items =[[1,'a',['cat'],2],[[[3]],'dog'],4,5]\n",
    "new_list = []\n",
    "\n",
    "def flatten(items):\n",
    "    for item in items:\n",
    "        if  type(item)==list:  \n",
    "            flatten(item)\n",
    "        else:\n",
    "            new_list.append(item)\n",
    "    return new_list \n",
    "flatten(list_items)\n"
   ]
  },
  {
   "cell_type": "code",
   "execution_count": 79,
   "metadata": {},
   "outputs": [
    {
     "data": {
      "text/plain": [
       "[[7, 6, 5], [4, 3], [2, 1]]"
      ]
     },
     "execution_count": 79,
     "metadata": {},
     "output_type": "execute_result"
    }
   ],
   "source": [
    "list_1=[[1, 2], [3, 4], [5, 6, 7]]\n",
    "new_list_1 =[]\n",
    "\n",
    "def reversed_list(x):\n",
    "    for i in x:\n",
    "        i.reverse()\n",
    "        new_list_1.append(i)\n",
    "    return new_list_1.reverse()\n",
    "reversed_list(list_1)\n",
    "new_list_1\n"
   ]
  }
 ],
 "metadata": {
  "kernelspec": {
   "display_name": "Python 3",
   "language": "python",
   "name": "python3"
  },
  "language_info": {
   "codemirror_mode": {
    "name": "ipython",
    "version": 3
   },
   "file_extension": ".py",
   "mimetype": "text/x-python",
   "name": "python",
   "nbconvert_exporter": "python",
   "pygments_lexer": "ipython3",
   "version": "3.9.5 (tags/v3.9.5:0a7dcbd, May  3 2021, 17:27:52) [MSC v.1928 64 bit (AMD64)]"
  },
  "orig_nbformat": 4,
  "vscode": {
   "interpreter": {
    "hash": "08ac30a6a1fd2e576b33e03f7d61c3a285d7ee0582c2dd23dde6343ef303ebe9"
   }
  }
 },
 "nbformat": 4,
 "nbformat_minor": 2
}
